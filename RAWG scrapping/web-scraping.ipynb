{
 "cells": [
  {
   "cell_type": "code",
   "execution_count": null,
   "id": "895bc138",
   "metadata": {},
   "outputs": [],
   "source": [
    "import pandas as pd\n",
    "import requests\n",
    "from bs4 import BeautifulSoup"
   ]
  },
  {
   "cell_type": "code",
   "execution_count": null,
   "id": "fd2fa504",
   "metadata": {},
   "outputs": [],
   "source": [
    "web='https://rawg.io/games'\n",
    "rel_url='?page='"
   ]
  },
  {
   "cell_type": "code",
   "execution_count": null,
   "id": "1d573f34",
   "metadata": {},
   "outputs": [],
   "source": [
    "response=requests.get(web)\n",
    "response.status_code"
   ]
  },
  {
   "cell_type": "code",
   "execution_count": null,
   "id": "dab65d00",
   "metadata": {},
   "outputs": [],
   "source": [
    "soup=BeautifulSoup(response.text, 'html.parser')"
   ]
  },
  {
   "cell_type": "code",
   "execution_count": null,
   "id": "65423ffb",
   "metadata": {},
   "outputs": [],
   "source": [
    "name=soup.find_all(class_='game-card-medium__info__name')\n",
    "# name"
   ]
  },
  {
   "cell_type": "code",
   "execution_count": null,
   "id": "9adc7c0e",
   "metadata": {},
   "outputs": [],
   "source": [
    "page_url=[]\n",
    "\n",
    "for i in range(1,21251):\n",
    "    res=requests.get(web+rel_url+str(i))\n",
    "    x=res.status_code\n",
    "    if x != 404:\n",
    "        page_url.append(web+rel_url+str(i))\n",
    "    else:\n",
    "        break\n",
    "\n",
    "page_url[len(page_url)-1]"
   ]
  },
  {
   "cell_type": "code",
   "execution_count": null,
   "id": "f11d69a8",
   "metadata": {},
   "outputs": [],
   "source": [
    "games_name=[]\n",
    "game_url=[]\n",
    "\n",
    "for page in page_url:\n",
    "    response=requests.get(page)\n",
    "    soup=BeautifulSoup(response.text, 'html.parser')\n",
    "    name=soup.find_all(class_='game-card-medium__info__name')\n",
    "    for i in name:\n",
    "        games_name.append(i.text.strip())\n",
    "    for a in name:\n",
    "        game_url.append('https://rawg.io'+a.get('href'))\n",
    "\n",
    "    \n",
    "   "
   ]
  },
  {
   "cell_type": "code",
   "execution_count": null,
   "id": "4b01e3d8",
   "metadata": {},
   "outputs": [],
   "source": [
    "# print(games_name)\n",
    "print(game_url)\n",
    "print(len(game_url))\n",
    "print(len(games_name))"
   ]
  },
  {
   "cell_type": "code",
   "execution_count": null,
   "id": "3bea4cc4",
   "metadata": {},
   "outputs": [],
   "source": [
    "ratings=[]\n",
    "platforms=[]\n",
    "metascores=[]\n",
    "genres=[]\n",
    "release_dates=[]\n",
    "developers=[]\n",
    "publishers=[]\n",
    "age_ratings=[]"
   ]
  },
  {
   "cell_type": "code",
   "execution_count": null,
   "id": "6d782549",
   "metadata": {},
   "outputs": [],
   "source": [
    "i = 1\n",
    "for url in game_url:\n",
    "    resp=requests.get(url)\n",
    "    soup=BeautifulSoup(resp.text, 'html.parser')\n",
    "\n",
    "    rating=soup.find(class_='rating-chart__bottom-link').text.split()[0]\n",
    "    ratings.append(rating)    \n",
    "\n",
    "    meta=soup.find(class_='metascore-label metascore-label_green')\n",
    "    if meta:\n",
    "        meta = meta.text\n",
    "    else:\n",
    "        meta = 'No Data Available'\n",
    "    metascores.append(meta)\n",
    "\n",
    "    platform_div = soup.find('div', text='Platforms')\n",
    "    if platform_div:\n",
    "        platform = platform_div.find_next_sibling()\n",
    "    else:\n",
    "        platform = 'No Data Found'\n",
    "    platforms.append(platform)\n",
    "    \n",
    "    genre_div = soup.find('div', text='Genre')\n",
    "    if genre_div:\n",
    "        genre = genre_div.find_next_sibling()\n",
    "    else:\n",
    "        genre = 'No Data Found'\n",
    "    genres.append(genre)\n",
    "\n",
    "    release_date_div = soup.find('div', text='Release date')\n",
    "    if release_date_div:\n",
    "        release_date = release_date_div.find_next_sibling().text\n",
    "    else:\n",
    "        release_date = 'No Data Found'\n",
    "    release_dates.append(release_date)\n",
    "\n",
    "    developer_div = soup.find('div', text='Developer')\n",
    "    if developer_div:\n",
    "        developer = developer_div.find_next_sibling().text\n",
    "    else:\n",
    "        developer = 'No Data Found'\n",
    "    developers.append(developer)\n",
    "\n",
    "    publisher_div = soup.find('div', text='Publisher')\n",
    "    if publisher_div:\n",
    "        publisher = publisher_div.find_next_sibling().text\n",
    "    else:\n",
    "        publisher = 'No Data Found'\n",
    "    publishers.append(publisher)\n",
    "\n",
    "    age_div = soup.find('div', text='Age rating')\n",
    "    if age_div:\n",
    "        age_rating = age_div.find_next_sibling().text\n",
    "    else:\n",
    "        age_rating = 'No Data Found'\n",
    "    age_ratings.append(age_rating)\n",
    "\n",
    "    print(f\"Processed {i} {url}\")\n",
    "    i = i+1\n"
   ]
  },
  {
   "cell_type": "code",
   "execution_count": null,
   "id": "aa1232fc",
   "metadata": {},
   "outputs": [],
   "source": [
    "print(\"Ratings:\", ratings)\n",
    "print(\"Platforms:\", platforms)\n",
    "print(\"Metascores:\", metascores)\n",
    "print(\"Genres:\", genres)\n",
    "print(\"Release Dates:\", release_dates)\n",
    "print(\"Developers:\", developers)\n",
    "print(\"Publishers:\", publishers)\n",
    "print(\"Age Ratings:\", age_ratings)\n"
   ]
  },
  {
   "cell_type": "code",
   "execution_count": null,
   "id": "b3069f58",
   "metadata": {},
   "outputs": [],
   "source": [
    "games_data = {\n",
    "    'Name': games_name,\n",
    "    'Rating': ratings,\n",
    "    'Metascore': metascores,\n",
    "    'Platform': platforms,\n",
    "    'Genre': genres,\n",
    "    'Release Date': release_dates,\n",
    "    'Developer': developers,\n",
    "    'Publisher': publishers,\n",
    "    'Age Rating': age_ratings,\n",
    "    'game_url': game_url\n",
    "}\n",
    "games_data"
   ]
  },
  {
   "cell_type": "code",
   "execution_count": null,
   "id": "5fbb1554",
   "metadata": {},
   "outputs": [],
   "source": [
    "import openpyxl\n",
    "\n",
    "games_df = pd.DataFrame(games_data)\n",
    "games_df.to_csv('games_data.csv', index=False)\n",
    "print(\"Data saved to games_data.csv\")\n",
    "games_df.to_excel('games_data.xlsx', index=False)\n",
    "print(\"Data saved to games_data.xlsx\")\n",
    "games_df.to_json('games_data.json', orient='records', indent=4 , lines=True)\n",
    "print(\"Data saved to games_data.json\")"
   ]
  }
 ],
 "metadata": {
  "kernelspec": {
   "display_name": "Python 3",
   "language": "python",
   "name": "python3"
  },
  "language_info": {
   "codemirror_mode": {
    "name": "ipython",
    "version": 3
   },
   "file_extension": ".py",
   "mimetype": "text/x-python",
   "name": "python",
   "nbconvert_exporter": "python",
   "pygments_lexer": "ipython3",
   "version": "3.13.2"
  }
 },
 "nbformat": 4,
 "nbformat_minor": 5
}
